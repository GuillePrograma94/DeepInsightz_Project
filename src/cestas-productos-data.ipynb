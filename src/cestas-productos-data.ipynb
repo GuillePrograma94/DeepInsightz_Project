{
 "cells": [
  {
   "cell_type": "markdown",
   "metadata": {},
   "source": [
    "# Preparación de los datos para el sistema de recomendación"
   ]
  },
  {
   "cell_type": "code",
   "execution_count": 1,
   "metadata": {},
   "outputs": [],
   "source": [
    "import pandas as pd\n",
    "import numpy as np\n",
    "import warnings\n",
    "warnings.filterwarnings('ignore')\n",
    "from sklearn.feature_extraction.text import TfidfVectorizer\n",
    "from sklearn.feature_extraction.text import CountVectorizer\n",
    "from joblib import dump, load\n",
    "from sklearn.preprocessing import normalize"
   ]
  },
  {
   "cell_type": "code",
   "execution_count": 2,
   "metadata": {},
   "outputs": [
    {
     "data": {
      "text/html": [
       "<div>\n",
       "<style scoped>\n",
       "    .dataframe tbody tr th:only-of-type {\n",
       "        vertical-align: middle;\n",
       "    }\n",
       "\n",
       "    .dataframe tbody tr th {\n",
       "        vertical-align: top;\n",
       "    }\n",
       "\n",
       "    .dataframe thead th {\n",
       "        text-align: right;\n",
       "    }\n",
       "</style>\n",
       "<table border=\"1\" class=\"dataframe\">\n",
       "  <thead>\n",
       "    <tr style=\"text-align: right;\">\n",
       "      <th></th>\n",
       "      <th>FECHA</th>\n",
       "      <th>CLIENTE</th>\n",
       "      <th>DESCRIPCION</th>\n",
       "      <th>UNIDADES</th>\n",
       "      <th>ARTICULO</th>\n",
       "      <th>CODIGO_COMPRA</th>\n",
       "      <th>FRECUENCIA_ANUAL</th>\n",
       "      <th>VENTA_ANUAL</th>\n",
       "      <th>codigo_familia</th>\n",
       "      <th>codigo_fabricante</th>\n",
       "      <th>Poblacion</th>\n",
       "      <th>codigo_grupo</th>\n",
       "      <th>precio_unitario_final</th>\n",
       "      <th>antiguedad</th>\n",
       "      <th>Latitude</th>\n",
       "      <th>Longitude</th>\n",
       "    </tr>\n",
       "  </thead>\n",
       "  <tbody>\n",
       "    <tr>\n",
       "      <th>0</th>\n",
       "      <td>2024-02-29 00:00:00.000</td>\n",
       "      <td>1019</td>\n",
       "      <td>GRIFO LLENAVASOS PARA FUENTES DE AGUA REF. 100...</td>\n",
       "      <td>1.0</td>\n",
       "      <td>002810071</td>\n",
       "      <td>SM1-3128</td>\n",
       "      <td>29</td>\n",
       "      <td>28077.52</td>\n",
       "      <td>0028</td>\n",
       "      <td>40007404</td>\n",
       "      <td>GANDIA</td>\n",
       "      <td>1.0</td>\n",
       "      <td>26.460</td>\n",
       "      <td>7239</td>\n",
       "      <td>38.967593</td>\n",
       "      <td>-0.180342</td>\n",
       "    </tr>\n",
       "    <tr>\n",
       "      <th>1</th>\n",
       "      <td>2024-07-31 00:00:00.000</td>\n",
       "      <td>1019</td>\n",
       "      <td>TUBO DE ENLACE KOMBIFIX CON TUERCAS REF. 152.4...</td>\n",
       "      <td>1.0</td>\n",
       "      <td>0044152426461</td>\n",
       "      <td>SM1-11147</td>\n",
       "      <td>29</td>\n",
       "      <td>28077.52</td>\n",
       "      <td>0044</td>\n",
       "      <td>40000662</td>\n",
       "      <td>GANDIA</td>\n",
       "      <td>1.0</td>\n",
       "      <td>23.530</td>\n",
       "      <td>7239</td>\n",
       "      <td>38.967593</td>\n",
       "      <td>-0.180342</td>\n",
       "    </tr>\n",
       "    <tr>\n",
       "      <th>2</th>\n",
       "      <td>2021-01-29 00:00:00.000</td>\n",
       "      <td>1019</td>\n",
       "      <td>FLOTADOR UNIFILL REF. 240.705.00.1 PARA CISTER...</td>\n",
       "      <td>1.0</td>\n",
       "      <td>0044240705001</td>\n",
       "      <td>SM1-1785</td>\n",
       "      <td>21</td>\n",
       "      <td>6723.96</td>\n",
       "      <td>0044</td>\n",
       "      <td>40000662</td>\n",
       "      <td>GANDIA</td>\n",
       "      <td>1.0</td>\n",
       "      <td>24.375</td>\n",
       "      <td>7239</td>\n",
       "      <td>38.967593</td>\n",
       "      <td>-0.180342</td>\n",
       "    </tr>\n",
       "    <tr>\n",
       "      <th>3</th>\n",
       "      <td>2024-04-30 00:00:00.000</td>\n",
       "      <td>1019</td>\n",
       "      <td>Plato de ducha de carga mineral textura pizarr...</td>\n",
       "      <td>1.0</td>\n",
       "      <td>0060PDSGPZ10070BL</td>\n",
       "      <td>SM1-6071</td>\n",
       "      <td>29</td>\n",
       "      <td>28077.52</td>\n",
       "      <td>0064</td>\n",
       "      <td>40000772</td>\n",
       "      <td>GANDIA</td>\n",
       "      <td>1.0</td>\n",
       "      <td>177.750</td>\n",
       "      <td>7239</td>\n",
       "      <td>38.967593</td>\n",
       "      <td>-0.180342</td>\n",
       "    </tr>\n",
       "    <tr>\n",
       "      <th>4</th>\n",
       "      <td>2023-05-31 00:00:00.000</td>\n",
       "      <td>1019</td>\n",
       "      <td>VERTEDERO MODELO GARDA A371055000 ROCA</td>\n",
       "      <td>1.0</td>\n",
       "      <td>00R00601</td>\n",
       "      <td>SM1-8041</td>\n",
       "      <td>51</td>\n",
       "      <td>24813.50</td>\n",
       "      <td>00R0</td>\n",
       "      <td>40000138</td>\n",
       "      <td>GANDIA</td>\n",
       "      <td>1.0</td>\n",
       "      <td>141.000</td>\n",
       "      <td>7239</td>\n",
       "      <td>38.967593</td>\n",
       "      <td>-0.180342</td>\n",
       "    </tr>\n",
       "  </tbody>\n",
       "</table>\n",
       "</div>"
      ],
      "text/plain": [
       "                     FECHA  CLIENTE  \\\n",
       "0  2024-02-29 00:00:00.000     1019   \n",
       "1  2024-07-31 00:00:00.000     1019   \n",
       "2  2021-01-29 00:00:00.000     1019   \n",
       "3  2024-04-30 00:00:00.000     1019   \n",
       "4  2023-05-31 00:00:00.000     1019   \n",
       "\n",
       "                                         DESCRIPCION  UNIDADES  \\\n",
       "0  GRIFO LLENAVASOS PARA FUENTES DE AGUA REF. 100...       1.0   \n",
       "1  TUBO DE ENLACE KOMBIFIX CON TUERCAS REF. 152.4...       1.0   \n",
       "2  FLOTADOR UNIFILL REF. 240.705.00.1 PARA CISTER...       1.0   \n",
       "3  Plato de ducha de carga mineral textura pizarr...       1.0   \n",
       "4             VERTEDERO MODELO GARDA A371055000 ROCA       1.0   \n",
       "\n",
       "            ARTICULO CODIGO_COMPRA  FRECUENCIA_ANUAL  VENTA_ANUAL  \\\n",
       "0          002810071      SM1-3128                29     28077.52   \n",
       "1      0044152426461     SM1-11147                29     28077.52   \n",
       "2      0044240705001      SM1-1785                21      6723.96   \n",
       "3  0060PDSGPZ10070BL      SM1-6071                29     28077.52   \n",
       "4           00R00601      SM1-8041                51     24813.50   \n",
       "\n",
       "  codigo_familia  codigo_fabricante Poblacion  codigo_grupo  \\\n",
       "0           0028           40007404    GANDIA           1.0   \n",
       "1           0044           40000662    GANDIA           1.0   \n",
       "2           0044           40000662    GANDIA           1.0   \n",
       "3           0064           40000772    GANDIA           1.0   \n",
       "4           00R0           40000138    GANDIA           1.0   \n",
       "\n",
       "   precio_unitario_final  antiguedad   Latitude  Longitude  \n",
       "0                 26.460        7239  38.967593  -0.180342  \n",
       "1                 23.530        7239  38.967593  -0.180342  \n",
       "2                 24.375        7239  38.967593  -0.180342  \n",
       "3                177.750        7239  38.967593  -0.180342  \n",
       "4                141.000        7239  38.967593  -0.180342  "
      ]
     },
     "execution_count": 2,
     "metadata": {},
     "output_type": "execute_result"
    }
   ],
   "source": [
    "# Cargo cv con la informacion de cada compra. Aquí se deben de incluir todo tipo de clientes\n",
    "df_compras = pd.read_csv('../data/clean_dataset_lat_long.csv') \n",
    "df_compras.head()"
   ]
  },
  {
   "cell_type": "code",
   "execution_count": 3,
   "metadata": {},
   "outputs": [
    {
     "data": {
      "text/html": [
       "<div>\n",
       "<style scoped>\n",
       "    .dataframe tbody tr th:only-of-type {\n",
       "        vertical-align: middle;\n",
       "    }\n",
       "\n",
       "    .dataframe tbody tr th {\n",
       "        vertical-align: top;\n",
       "    }\n",
       "\n",
       "    .dataframe thead th {\n",
       "        text-align: right;\n",
       "    }\n",
       "</style>\n",
       "<table border=\"1\" class=\"dataframe\">\n",
       "  <thead>\n",
       "    <tr style=\"text-align: right;\">\n",
       "      <th></th>\n",
       "      <th>ARTICULO</th>\n",
       "      <th>DESCRIPCION</th>\n",
       "    </tr>\n",
       "  </thead>\n",
       "  <tbody>\n",
       "    <tr>\n",
       "      <th>0</th>\n",
       "      <td>002810071</td>\n",
       "      <td>GRIFO LLENAVASOS PARA FUENTES DE AGUA REF. 100...</td>\n",
       "    </tr>\n",
       "    <tr>\n",
       "      <th>1</th>\n",
       "      <td>0044152426461</td>\n",
       "      <td>TUBO DE ENLACE KOMBIFIX CON TUERCAS REF. 152.4...</td>\n",
       "    </tr>\n",
       "    <tr>\n",
       "      <th>2</th>\n",
       "      <td>0044240705001</td>\n",
       "      <td>FLOTADOR UNIFILL REF. 240.705.00.1 PARA CISTER...</td>\n",
       "    </tr>\n",
       "    <tr>\n",
       "      <th>3</th>\n",
       "      <td>0060PDSGPZ10070BL</td>\n",
       "      <td>Plato de ducha de carga mineral textura pizarr...</td>\n",
       "    </tr>\n",
       "    <tr>\n",
       "      <th>4</th>\n",
       "      <td>00R00601</td>\n",
       "      <td>VERTEDERO MODELO GARDA A371055000 ROCA</td>\n",
       "    </tr>\n",
       "    <tr>\n",
       "      <th>...</th>\n",
       "      <td>...</td>\n",
       "      <td>...</td>\n",
       "    </tr>\n",
       "    <tr>\n",
       "      <th>19846</th>\n",
       "      <td>0901304498</td>\n",
       "      <td>Manguito portabrida 315 pvc presión</td>\n",
       "    </tr>\n",
       "    <tr>\n",
       "      <th>19847</th>\n",
       "      <td>0901304500</td>\n",
       "      <td>Brida loca presión 315 de 12 agujeros</td>\n",
       "    </tr>\n",
       "    <tr>\n",
       "      <th>19848</th>\n",
       "      <td>090658707</td>\n",
       "      <td>SKIMMER 17,5L NORM para piscina de hormigón  b...</td>\n",
       "    </tr>\n",
       "    <tr>\n",
       "      <th>19849</th>\n",
       "      <td>1012121NE</td>\n",
       "      <td>Fregadero sobre encimera CORAL de 1 cubeta y e...</td>\n",
       "    </tr>\n",
       "    <tr>\n",
       "      <th>19850</th>\n",
       "      <td>2002014VI</td>\n",
       "      <td>ASIENTO WC MODELO MILOS VISON BISAGRAS A-36 ES...</td>\n",
       "    </tr>\n",
       "  </tbody>\n",
       "</table>\n",
       "<p>19851 rows × 2 columns</p>\n",
       "</div>"
      ],
      "text/plain": [
       "                ARTICULO                                        DESCRIPCION\n",
       "0              002810071  GRIFO LLENAVASOS PARA FUENTES DE AGUA REF. 100...\n",
       "1          0044152426461  TUBO DE ENLACE KOMBIFIX CON TUERCAS REF. 152.4...\n",
       "2          0044240705001  FLOTADOR UNIFILL REF. 240.705.00.1 PARA CISTER...\n",
       "3      0060PDSGPZ10070BL  Plato de ducha de carga mineral textura pizarr...\n",
       "4               00R00601             VERTEDERO MODELO GARDA A371055000 ROCA\n",
       "...                  ...                                                ...\n",
       "19846         0901304498                Manguito portabrida 315 pvc presión\n",
       "19847         0901304500              Brida loca presión 315 de 12 agujeros\n",
       "19848          090658707  SKIMMER 17,5L NORM para piscina de hormigón  b...\n",
       "19849          1012121NE  Fregadero sobre encimera CORAL de 1 cubeta y e...\n",
       "19850          2002014VI  ASIENTO WC MODELO MILOS VISON BISAGRAS A-36 ES...\n",
       "\n",
       "[19851 rows x 2 columns]"
      ]
     },
     "execution_count": 3,
     "metadata": {},
     "output_type": "execute_result"
    }
   ],
   "source": [
    "# Eliminar duplicados para obtener un DataFrame limpio con ARTICULO y DESCRIPCION\n",
    "productos = df_compras[['ARTICULO', 'DESCRIPCION']].drop_duplicates().reset_index(drop=True)\n",
    "productos"
   ]
  },
  {
   "cell_type": "code",
   "execution_count": 4,
   "metadata": {},
   "outputs": [],
   "source": [
    "# Guardamos productos en csv\n",
    "productos.to_csv('../data/productos.csv')"
   ]
  },
  {
   "cell_type": "code",
   "execution_count": 5,
   "metadata": {},
   "outputs": [
    {
     "data": {
      "text/html": [
       "<div>\n",
       "<style scoped>\n",
       "    .dataframe tbody tr th:only-of-type {\n",
       "        vertical-align: middle;\n",
       "    }\n",
       "\n",
       "    .dataframe tbody tr th {\n",
       "        vertical-align: top;\n",
       "    }\n",
       "\n",
       "    .dataframe thead th {\n",
       "        text-align: right;\n",
       "    }\n",
       "</style>\n",
       "<table border=\"1\" class=\"dataframe\">\n",
       "  <thead>\n",
       "    <tr style=\"text-align: right;\">\n",
       "      <th></th>\n",
       "      <th>CODIGO_COMPRA</th>\n",
       "      <th>Articulos</th>\n",
       "      <th>Unidades</th>\n",
       "    </tr>\n",
       "  </thead>\n",
       "  <tbody>\n",
       "    <tr>\n",
       "      <th>0</th>\n",
       "      <td>0R8-6</td>\n",
       "      <td>[0804133287]</td>\n",
       "      <td>[15.0]</td>\n",
       "    </tr>\n",
       "    <tr>\n",
       "      <th>1</th>\n",
       "      <td>1-1</td>\n",
       "      <td>[014697462000, 0438UAES]</td>\n",
       "      <td>[1.0, 1.0]</td>\n",
       "    </tr>\n",
       "    <tr>\n",
       "      <th>2</th>\n",
       "      <td>1-10</td>\n",
       "      <td>[0274IGTH221222, 077073154N, 2001WPDIAZ]</td>\n",
       "      <td>[4.0, 1.0, 1.0]</td>\n",
       "    </tr>\n",
       "    <tr>\n",
       "      <th>3</th>\n",
       "      <td>1-11</td>\n",
       "      <td>[0274AI70M42CAD, 0274AI70M54CAD, 0033TO0051B]</td>\n",
       "      <td>[1.0, 1.0, 1.0]</td>\n",
       "    </tr>\n",
       "    <tr>\n",
       "      <th>4</th>\n",
       "      <td>1-12</td>\n",
       "      <td>[07R2A851693509, 0060PDSGPZ13080BL, 2003WPMAHBL]</td>\n",
       "      <td>[1.0, 1.0, 1.0]</td>\n",
       "    </tr>\n",
       "  </tbody>\n",
       "</table>\n",
       "</div>"
      ],
      "text/plain": [
       "  CODIGO_COMPRA                                         Articulos  \\\n",
       "0         0R8-6                                      [0804133287]   \n",
       "1           1-1                          [014697462000, 0438UAES]   \n",
       "2          1-10          [0274IGTH221222, 077073154N, 2001WPDIAZ]   \n",
       "3          1-11     [0274AI70M42CAD, 0274AI70M54CAD, 0033TO0051B]   \n",
       "4          1-12  [07R2A851693509, 0060PDSGPZ13080BL, 2003WPMAHBL]   \n",
       "\n",
       "          Unidades  \n",
       "0           [15.0]  \n",
       "1       [1.0, 1.0]  \n",
       "2  [4.0, 1.0, 1.0]  \n",
       "3  [1.0, 1.0, 1.0]  \n",
       "4  [1.0, 1.0, 1.0]  "
      ]
     },
     "execution_count": 5,
     "metadata": {},
     "output_type": "execute_result"
    }
   ],
   "source": [
    "# Preparo un df a partir del df_compras en el que voy a agrupar los artículos por transacción.\n",
    "# Agrupar por 'CODIGO_COMPRA'\n",
    "cestas = df_compras.groupby('CODIGO_COMPRA').agg(Articulos=('ARTICULO', lambda x: list(x)), Unidades=('UNIDADES', lambda x: list(x))).reset_index()\n",
    "\n",
    "# Mostrar el nuevo DataFrame\n",
    "cestas.head()"
   ]
  },
  {
   "cell_type": "code",
   "execution_count": 6,
   "metadata": {},
   "outputs": [
    {
     "name": "stdout",
     "output_type": "stream",
     "text": [
      "<class 'pandas.core.frame.DataFrame'>\n",
      "RangeIndex: 61396 entries, 0 to 61395\n",
      "Data columns (total 3 columns):\n",
      " #   Column         Non-Null Count  Dtype \n",
      "---  ------         --------------  ----- \n",
      " 0   CODIGO_COMPRA  61396 non-null  object\n",
      " 1   Articulos      61396 non-null  object\n",
      " 2   Unidades       61396 non-null  object\n",
      "dtypes: object(3)\n",
      "memory usage: 1.4+ MB\n"
     ]
    }
   ],
   "source": [
    "cestas.info()"
   ]
  },
  {
   "cell_type": "code",
   "execution_count": 7,
   "metadata": {},
   "outputs": [],
   "source": [
    "# Convertir los artículos en una sola cadena, multiplicando por la cantidad de unidades. Lo pongo en la columna cestas\n",
    "cestas['Cestas'] = cestas.apply(lambda row: ' '.join([f\"{item} \" * int(unit) for item, unit in zip(row['Articulos'], row['Unidades'])]), axis=1)"
   ]
  },
  {
   "cell_type": "code",
   "execution_count": 8,
   "metadata": {},
   "outputs": [
    {
     "data": {
      "text/html": [
       "<div>\n",
       "<style scoped>\n",
       "    .dataframe tbody tr th:only-of-type {\n",
       "        vertical-align: middle;\n",
       "    }\n",
       "\n",
       "    .dataframe tbody tr th {\n",
       "        vertical-align: top;\n",
       "    }\n",
       "\n",
       "    .dataframe thead th {\n",
       "        text-align: right;\n",
       "    }\n",
       "</style>\n",
       "<table border=\"1\" class=\"dataframe\">\n",
       "  <thead>\n",
       "    <tr style=\"text-align: right;\">\n",
       "      <th></th>\n",
       "      <th>CODIGO_COMPRA</th>\n",
       "      <th>Articulos</th>\n",
       "      <th>Unidades</th>\n",
       "      <th>Cestas</th>\n",
       "    </tr>\n",
       "  </thead>\n",
       "  <tbody>\n",
       "    <tr>\n",
       "      <th>0</th>\n",
       "      <td>0R8-6</td>\n",
       "      <td>[0804133287]</td>\n",
       "      <td>[15.0]</td>\n",
       "      <td>0804133287 0804133287 0804133287 0804133287 08...</td>\n",
       "    </tr>\n",
       "    <tr>\n",
       "      <th>1</th>\n",
       "      <td>1-1</td>\n",
       "      <td>[014697462000, 0438UAES]</td>\n",
       "      <td>[1.0, 1.0]</td>\n",
       "      <td>014697462000  0438UAES</td>\n",
       "    </tr>\n",
       "    <tr>\n",
       "      <th>2</th>\n",
       "      <td>1-10</td>\n",
       "      <td>[0274IGTH221222, 077073154N, 2001WPDIAZ]</td>\n",
       "      <td>[4.0, 1.0, 1.0]</td>\n",
       "      <td>0274IGTH221222 0274IGTH221222 0274IGTH221222 0...</td>\n",
       "    </tr>\n",
       "    <tr>\n",
       "      <th>3</th>\n",
       "      <td>1-11</td>\n",
       "      <td>[0274AI70M42CAD, 0274AI70M54CAD, 0033TO0051B]</td>\n",
       "      <td>[1.0, 1.0, 1.0]</td>\n",
       "      <td>0274AI70M42CAD  0274AI70M54CAD  0033TO0051B</td>\n",
       "    </tr>\n",
       "    <tr>\n",
       "      <th>4</th>\n",
       "      <td>1-12</td>\n",
       "      <td>[07R2A851693509, 0060PDSGPZ13080BL, 2003WPMAHBL]</td>\n",
       "      <td>[1.0, 1.0, 1.0]</td>\n",
       "      <td>07R2A851693509  0060PDSGPZ13080BL  2003WPMAHBL</td>\n",
       "    </tr>\n",
       "  </tbody>\n",
       "</table>\n",
       "</div>"
      ],
      "text/plain": [
       "  CODIGO_COMPRA                                         Articulos  \\\n",
       "0         0R8-6                                      [0804133287]   \n",
       "1           1-1                          [014697462000, 0438UAES]   \n",
       "2          1-10          [0274IGTH221222, 077073154N, 2001WPDIAZ]   \n",
       "3          1-11     [0274AI70M42CAD, 0274AI70M54CAD, 0033TO0051B]   \n",
       "4          1-12  [07R2A851693509, 0060PDSGPZ13080BL, 2003WPMAHBL]   \n",
       "\n",
       "          Unidades                                             Cestas  \n",
       "0           [15.0]  0804133287 0804133287 0804133287 0804133287 08...  \n",
       "1       [1.0, 1.0]                            014697462000  0438UAES   \n",
       "2  [4.0, 1.0, 1.0]  0274IGTH221222 0274IGTH221222 0274IGTH221222 0...  \n",
       "3  [1.0, 1.0, 1.0]       0274AI70M42CAD  0274AI70M54CAD  0033TO0051B   \n",
       "4  [1.0, 1.0, 1.0]    07R2A851693509  0060PDSGPZ13080BL  2003WPMAHBL   "
      ]
     },
     "execution_count": 8,
     "metadata": {},
     "output_type": "execute_result"
    }
   ],
   "source": [
    "cestas.head()"
   ]
  },
  {
   "cell_type": "code",
   "execution_count": 9,
   "metadata": {},
   "outputs": [],
   "source": [
    "# Guardamos productos en csv\n",
    "cestas.to_csv('../data/cestas.csv')"
   ]
  },
  {
   "cell_type": "markdown",
   "metadata": {},
   "source": [
    "Vectorización de cestas usando TFIDF"
   ]
  },
  {
   "cell_type": "code",
   "execution_count": 10,
   "metadata": {},
   "outputs": [],
   "source": [
    "tfidf = TfidfVectorizer()\n",
    "tfidf_matrix = tfidf.fit_transform(cestas['Cestas'])"
   ]
  },
  {
   "cell_type": "code",
   "execution_count": 12,
   "metadata": {},
   "outputs": [
    {
     "data": {
      "text/plain": [
       "['../models/tfidf_model.joblib']"
      ]
     },
     "execution_count": 12,
     "metadata": {},
     "output_type": "execute_result"
    }
   ],
   "source": [
    "# Guardar la matriz TF-IDF y el modelo\n",
    "dump(tfidf_matrix, '../models/tfidf_matrix.joblib') # matriz\n",
    "dump(tfidf, '../models/tfidf_model.joblib') # modelo de vectorizacion"
   ]
  },
  {
   "cell_type": "markdown",
   "metadata": {},
   "source": [
    "Vectorización de cestas usando COuntVEctorizer"
   ]
  },
  {
   "cell_type": "code",
   "execution_count": 13,
   "metadata": {},
   "outputs": [],
   "source": [
    "# Calcular la matriz de conteo\n",
    "count_vectorizer = CountVectorizer()\n",
    "count_matrix = count_vectorizer.fit_transform(cestas['Cestas'])"
   ]
  },
  {
   "cell_type": "code",
   "execution_count": 14,
   "metadata": {},
   "outputs": [
    {
     "data": {
      "text/plain": [
       "['../models/count_vectorizer.joblib']"
      ]
     },
     "execution_count": 14,
     "metadata": {},
     "output_type": "execute_result"
    }
   ],
   "source": [
    "# Guardar la matriz de conteo y el modelo en la carpeta 'models'\n",
    "dump(count_matrix, '../models/count_matrix.joblib')\n",
    "dump(count_vectorizer, '../models/count_vectorizer.joblib')"
   ]
  },
  {
   "cell_type": "markdown",
   "metadata": {},
   "source": [
    "Vectorizacion usando count + normalizacion L1"
   ]
  },
  {
   "cell_type": "code",
   "execution_count": 15,
   "metadata": {},
   "outputs": [],
   "source": [
    "count_matrix = count_vectorizer.fit_transform(cestas['Cestas'])\n",
    "# Normalizar la matriz de conteo por la suma total de términos en cada documento (aplicar TF)\n",
    "tf_matrix = normalize(count_matrix, norm='l1')  # 'l1' normaliza por la suma de la fila"
   ]
  },
  {
   "cell_type": "code",
   "execution_count": 16,
   "metadata": {},
   "outputs": [
    {
     "data": {
      "text/plain": [
       "['../models/count_vectorizer.joblib']"
      ]
     },
     "execution_count": 16,
     "metadata": {},
     "output_type": "execute_result"
    }
   ],
   "source": [
    "# Guardar la matriz de conteo y el modelo en la carpeta 'models'\n",
    "dump(tf_matrix, '../models/tf_matrix.joblib')\n",
    "dump(count_vectorizer, '../models/count_vectorizer.joblib')"
   ]
  }
 ],
 "metadata": {
  "kernelspec": {
   "display_name": "Python 3",
   "language": "python",
   "name": "python3"
  },
  "language_info": {
   "codemirror_mode": {
    "name": "ipython",
    "version": 3
   },
   "file_extension": ".py",
   "mimetype": "text/x-python",
   "name": "python",
   "nbconvert_exporter": "python",
   "pygments_lexer": "ipython3",
   "version": "3.12.4"
  }
 },
 "nbformat": 4,
 "nbformat_minor": 2
}
